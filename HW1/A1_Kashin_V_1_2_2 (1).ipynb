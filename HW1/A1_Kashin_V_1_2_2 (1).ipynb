{
 "cells": [
  {
   "cell_type": "markdown",
   "metadata": {},
   "source": [
    "<div style=\"font-size:18pt; padding-top:20px; text-align:center\">ЗАДАНИЕ 1. <b>Дескриптивный анализ данных и </b> <span style=\"font-weight:bold; color:green\">Pandas/Matplotlib</span></div><hr>\n",
    "<div style=\"text-align:right;\">Папулин С.Ю. <span style=\"font-style: italic;font-weight: bold;\">(papulin_hse@mail.ru)</span></div>"
   ]
  },
  {
   "cell_type": "markdown",
   "metadata": {},
   "source": [
    "<a name=\"0\"></a>\n",
    "<div><span style=\"font-size:14pt; font-weight:bold\">Содержание</span>\n",
    "    <ol>\n",
    "        <li><a href=\"#1\">Варианты</a></li>\n",
    "        <li><a href=\"#2\">Задание</a></li>\n",
    "    </ol>\n",
    "</div>"
   ]
  },
  {
   "cell_type": "markdown",
   "metadata": {},
   "source": [
    "<p>Подключение стилей оформления</p>"
   ]
  },
  {
   "cell_type": "code",
   "execution_count": 100,
   "metadata": {
    "collapsed": false
   },
   "outputs": [
    {
     "data": {
      "text/html": [
       "<link href=\"css/style.css\" rel=\"stylesheet\" type=\"text/css\">"
      ],
      "text/plain": [
       "<IPython.core.display.HTML object>"
      ]
     },
     "metadata": {},
     "output_type": "display_data"
    }
   ],
   "source": [
    "%%html\n",
    "<link href=\"css/style.css\" rel=\"stylesheet\" type=\"text/css\">"
   ]
  },
  {
   "cell_type": "code",
   "execution_count": null,
   "metadata": {
    "collapsed": true
   },
   "outputs": [],
   "source": []
  },
  {
   "cell_type": "markdown",
   "metadata": {},
   "source": [
    "<a name=\"1\"></a>\n",
    "<div style=\"display:table; width:100%; padding-top:10px; padding-bottom:10px; border-bottom:1px solid lightgrey\">\n",
    "    <div style=\"display:table-row\">\n",
    "        <div style=\"display:table-cell; width:80%; font-size:14pt; font-weight:bold\">1. Варианты</div>\n",
    "    \t<div style=\"display:table-cell; width:20%; text-align:center; background-color:whitesmoke; border:1px solid lightgrey\"><a href=\"#0\">К содержанию</a></div>\n",
    "    </div>\n",
    "</div>"
   ]
  },
  {
   "cell_type": "markdown",
   "metadata": {},
   "source": [
    "<p>Чтобы узнать свой вариант, введите Вашу фамилию в соответвующее поле ниже и запустите ячейку:</p>"
   ]
  },
  {
   "cell_type": "code",
   "execution_count": 2,
   "metadata": {
    "collapsed": false
   },
   "outputs": [
    {
     "name": "stdout",
     "output_type": "stream",
     "text": [
      "Задача № 1, шаг 5 - вариант:  1\n",
      "Задача № 1, шаг 11 - вариант:  2\n"
     ]
    }
   ],
   "source": [
    "surname = \"Кашин\"\n",
    "\n",
    "alp = \"абвгдеёжзийклмнопрстуфхцчшщъыьэюя\"\n",
    "w = [1, 42, 21, 21, 34,  6, 44, 26, 18, 44, 38, 26, 14, 43,  4, 49, 45,\n",
    "        7, 42, 29,  4,  9, 36, 34, 31, 29,  5, 30,  4, 19, 28, 25, 33]\n",
    "\n",
    "d = dict(zip(alp, w))\n",
    "variant =  sum([d[el] for el in surname.lower()]) % 40 + 1\n",
    "\n",
    "print(\"Задача № 1, шаг 5 - вариант: \", variant % 5 + 1)\n",
    "print(\"Задача № 1, шаг 11 - вариант: \", variant % 2 + 1 )"
   ]
  },
  {
   "cell_type": "markdown",
   "metadata": {},
   "source": [
    "<div class=\"msg-block msg-warning\">\n",
    "  <p class=\"msg-text-warn\">Варианты могут не совпадать с последующими ДЗ</p>\n",
    "</div>"
   ]
  },
  {
   "cell_type": "markdown",
   "metadata": {},
   "source": [
    "<a name=\"2\"></a>\n",
    "<div style=\"display:table; width:100%; padding-top:10px; padding-bottom:10px; border-bottom:1px solid lightgrey\">\n",
    "    <div style=\"display:table-row\">\n",
    "        <div style=\"display:table-cell; width:80%; font-size:14pt; font-weight:bold\">2. Задание</div>\n",
    "    \t<div style=\"display:table-cell; width:20%; text-align:center; background-color:whitesmoke; border:1px solid lightgrey\"><a href=\"#0\">К содержанию</a></div>\n",
    "    </div>\n",
    "</div>"
   ]
  },
  {
   "cell_type": "markdown",
   "metadata": {},
   "source": [
    "<div class=\"msg-block msg-imp\">\n",
    "  <div class=\"msg-text-imp\">\n",
    "      <p>СРОК СДАЧИ: до <b>20 февраля 2017</b></p>\n",
    "      <p style=\"margin:0px\">ПОСЛЕ СРОКА: первая неделя <b>-25%</b>, вторая неделя и далее до конца модуля <b>-50%</b>\n",
    "      </p>\n",
    "  </div>\n",
    "</div>"
   ]
  },
  {
   "cell_type": "markdown",
   "metadata": {},
   "source": [
    "<p><b>Задача 1.</b> Анализ индекса восприятия коррупции (Corruption Perceptions Index, CPI)</p>"
   ]
  },
  {
   "cell_type": "markdown",
   "metadata": {},
   "source": [
    "<p>1. Подключите библиотеки numpy, pandas, matplotlib</p>"
   ]
  },
  {
   "cell_type": "code",
   "execution_count": 1,
   "metadata": {
    "collapsed": false
   },
   "outputs": [],
   "source": [
    "import numpy as np\n",
    "import pandas as pd\n",
    "import matplotlib as mpl\n",
    "import matplotlib.pyplot as plt\n",
    "%matplotlib inline"
   ]
  },
  {
   "cell_type": "markdown",
   "metadata": {},
   "source": [
    "<p>2. Загрузите данные из \"Corruption_Perception_Index.csv\" в DataFrame. Исходные данные и пояснения можно найти <a href=\"http://www.transparency.org/news/feature/corruption_perceptions_index_2016#table\">здесь</a></p>"
   ]
  },
  {
   "cell_type": "code",
   "execution_count": 34,
   "metadata": {
    "collapsed": false
   },
   "outputs": [],
   "source": [
    "data = pd.read_csv(\"C:\\Users\\Danil\\Desktop\\IAD\\sem\\HW1\\Corruption_Perception_Index.csv\")"
   ]
  },
  {
   "cell_type": "markdown",
   "metadata": {},
   "source": [
    "<p>3. Отсортируйте данные по убыванию индекса DataFrame</p>"
   ]
  },
  {
   "cell_type": "code",
   "execution_count": 35,
   "metadata": {
    "collapsed": false
   },
   "outputs": [],
   "source": [
    "data = data.sort_index(ascending=False)"
   ]
  },
  {
   "cell_type": "markdown",
   "metadata": {},
   "source": [
    "<div><p>4. Отобразите данные по индексу CPI за 2016 год в виде горизонтального столбчатого графика. Примерный вид графика приведен ниже</p>\n",
    "<img src=\"img/cpi_2016_.png\"></div>"
   ]
  },
  {
   "cell_type": "code",
   "execution_count": 36,
   "metadata": {
    "collapsed": false
   },
   "outputs": [
    {
     "data": {
      "text/plain": [
       "<matplotlib.axes._subplots.AxesSubplot at 0xa7ec978>"
      ]
     },
     "execution_count": 36,
     "metadata": {},
     "output_type": "execute_result"
    },
    {
     "data": {
      "image/png": "[encoded data removed]",
      "text/plain": [
       "<matplotlib.figure.Figure at 0xa7ecd68>"
      ]
     },
     "metadata": {},
     "output_type": "display_data"
    }
   ],
   "source": [
    "data.tail(25).sort_values('2016 Score',ascending=True).plot(x='Country',y='2016 Score', kind = 'barh')"
   ]
  },
  {
   "cell_type": "markdown",
   "metadata": {},
   "source": [
    "## <p>5. Сформируйте DataFrame из исходного для региона в соответствии с Вашим вариантом</p>\n",
    "<p><b>Вариант 1.</b> Asia Pacific</p>\n",
    "<p><b>Вариант 2.</b> Americas</p>\n",
    "<p><b>Вариант 3.</b> Europe and Central Asia</p>\n",
    "<p><b>Вариант 4.</b> Middle East and North Africa</p>\n",
    "<p><b>Вариант 5.</b> Sub Saharan Africa</p>"
   ]
  },
  {
   "cell_type": "code",
   "execution_count": 37,
   "metadata": {
    "collapsed": false
   },
   "outputs": [],
   "source": [
    "asia = data[data['Region']=='Asia Pacific'].copy()"
   ]
  },
  {
   "cell_type": "markdown",
   "metadata": {},
   "source": [
    "<p>6. Выведите данные DataFrame'a</p>"
   ]
  },
  {
   "cell_type": "code",
   "execution_count": 38,
   "metadata": {
    "collapsed": false,
    "scrolled": true
   },
   "outputs": [
    {
     "data": {
      "text/html": [
       "<div>\n",
       "<table border=\"1\" class=\"dataframe\">\n",
       "  <thead>\n",
       "    <tr style=\"text-align: right;\">\n",
       "      <th></th>\n",
       "      <th>2016 Rank</th>\n",
       "      <th>Country</th>\n",
       "      <th>2016 Score</th>\n",
       "      <th>2015 Score</th>\n",
       "      <th>2014 Score</th>\n",
       "      <th>2013 Score</th>\n",
       "      <th>2012 Score</th>\n",
       "      <th>Region</th>\n",
       "    </tr>\n",
       "  </thead>\n",
       "  <tbody>\n",
       "    <tr>\n",
       "      <th>173</th>\n",
       "      <td>174</td>\n",
       "      <td>Korea (North)</td>\n",
       "      <td>12</td>\n",
       "      <td>8.0</td>\n",
       "      <td>8.0</td>\n",
       "      <td>8.0</td>\n",
       "      <td>8.0</td>\n",
       "      <td>Asia Pacific</td>\n",
       "    </tr>\n",
       "    <tr>\n",
       "      <th>168</th>\n",
       "      <td>169</td>\n",
       "      <td>Afghanistan</td>\n",
       "      <td>15</td>\n",
       "      <td>11.0</td>\n",
       "      <td>12.0</td>\n",
       "      <td>8.0</td>\n",
       "      <td>8.0</td>\n",
       "      <td>Asia Pacific</td>\n",
       "    </tr>\n",
       "    <tr>\n",
       "      <th>155</th>\n",
       "      <td>156</td>\n",
       "      <td>Cambodia</td>\n",
       "      <td>21</td>\n",
       "      <td>21.0</td>\n",
       "      <td>21.0</td>\n",
       "      <td>20.0</td>\n",
       "      <td>22.0</td>\n",
       "      <td>Asia Pacific</td>\n",
       "    </tr>\n",
       "    <tr>\n",
       "      <th>144</th>\n",
       "      <td>145</td>\n",
       "      <td>Bangladesh</td>\n",
       "      <td>26</td>\n",
       "      <td>25.0</td>\n",
       "      <td>25.0</td>\n",
       "      <td>27.0</td>\n",
       "      <td>26.0</td>\n",
       "      <td>Asia Pacific</td>\n",
       "    </tr>\n",
       "    <tr>\n",
       "      <th>140</th>\n",
       "      <td>136</td>\n",
       "      <td>Papua New Guinea</td>\n",
       "      <td>28</td>\n",
       "      <td>25.0</td>\n",
       "      <td>25.0</td>\n",
       "      <td>25.0</td>\n",
       "      <td>25.0</td>\n",
       "      <td>Asia Pacific</td>\n",
       "    </tr>\n",
       "    <tr>\n",
       "      <th>138</th>\n",
       "      <td>136</td>\n",
       "      <td>Myanmar</td>\n",
       "      <td>28</td>\n",
       "      <td>22.0</td>\n",
       "      <td>21.0</td>\n",
       "      <td>21.0</td>\n",
       "      <td>15.0</td>\n",
       "      <td>Asia Pacific</td>\n",
       "    </tr>\n",
       "    <tr>\n",
       "      <th>132</th>\n",
       "      <td>131</td>\n",
       "      <td>Nepal</td>\n",
       "      <td>29</td>\n",
       "      <td>27.0</td>\n",
       "      <td>29.0</td>\n",
       "      <td>31.0</td>\n",
       "      <td>27.0</td>\n",
       "      <td>Asia Pacific</td>\n",
       "    </tr>\n",
       "    <tr>\n",
       "      <th>125</th>\n",
       "      <td>123</td>\n",
       "      <td>Laos</td>\n",
       "      <td>30</td>\n",
       "      <td>25.0</td>\n",
       "      <td>25.0</td>\n",
       "      <td>26.0</td>\n",
       "      <td>21.0</td>\n",
       "      <td>Asia Pacific</td>\n",
       "    </tr>\n",
       "    <tr>\n",
       "      <th>116</th>\n",
       "      <td>116</td>\n",
       "      <td>Pakistan</td>\n",
       "      <td>32</td>\n",
       "      <td>30.0</td>\n",
       "      <td>29.0</td>\n",
       "      <td>28.0</td>\n",
       "      <td>27.0</td>\n",
       "      <td>Asia Pacific</td>\n",
       "    </tr>\n",
       "    <tr>\n",
       "      <th>114</th>\n",
       "      <td>113</td>\n",
       "      <td>Vietnam</td>\n",
       "      <td>33</td>\n",
       "      <td>31.0</td>\n",
       "      <td>31.0</td>\n",
       "      <td>31.0</td>\n",
       "      <td>31.0</td>\n",
       "      <td>Asia Pacific</td>\n",
       "    </tr>\n",
       "    <tr>\n",
       "      <th>105</th>\n",
       "      <td>101</td>\n",
       "      <td>Timor-Leste</td>\n",
       "      <td>35</td>\n",
       "      <td>28.0</td>\n",
       "      <td>28.0</td>\n",
       "      <td>30.0</td>\n",
       "      <td>33.0</td>\n",
       "      <td>Asia Pacific</td>\n",
       "    </tr>\n",
       "    <tr>\n",
       "      <th>104</th>\n",
       "      <td>101</td>\n",
       "      <td>Thailand</td>\n",
       "      <td>35</td>\n",
       "      <td>38.0</td>\n",
       "      <td>38.0</td>\n",
       "      <td>35.0</td>\n",
       "      <td>37.0</td>\n",
       "      <td>Asia Pacific</td>\n",
       "    </tr>\n",
       "    <tr>\n",
       "      <th>103</th>\n",
       "      <td>101</td>\n",
       "      <td>Philippines</td>\n",
       "      <td>35</td>\n",
       "      <td>35.0</td>\n",
       "      <td>38.0</td>\n",
       "      <td>36.0</td>\n",
       "      <td>34.0</td>\n",
       "      <td>Asia Pacific</td>\n",
       "    </tr>\n",
       "    <tr>\n",
       "      <th>99</th>\n",
       "      <td>95</td>\n",
       "      <td>Sri Lanka</td>\n",
       "      <td>36</td>\n",
       "      <td>37.0</td>\n",
       "      <td>38.0</td>\n",
       "      <td>37.0</td>\n",
       "      <td>40.0</td>\n",
       "      <td>Asia Pacific</td>\n",
       "    </tr>\n",
       "    <tr>\n",
       "      <th>98</th>\n",
       "      <td>95</td>\n",
       "      <td>Maldives</td>\n",
       "      <td>36</td>\n",
       "      <td>NaN</td>\n",
       "      <td>NaN</td>\n",
       "      <td>NaN</td>\n",
       "      <td>NaN</td>\n",
       "      <td>Asia Pacific</td>\n",
       "    </tr>\n",
       "    <tr>\n",
       "      <th>90</th>\n",
       "      <td>90</td>\n",
       "      <td>Indonesia</td>\n",
       "      <td>37</td>\n",
       "      <td>36.0</td>\n",
       "      <td>34.0</td>\n",
       "      <td>32.0</td>\n",
       "      <td>32.0</td>\n",
       "      <td>Asia Pacific</td>\n",
       "    </tr>\n",
       "    <tr>\n",
       "      <th>86</th>\n",
       "      <td>87</td>\n",
       "      <td>Mongolia</td>\n",
       "      <td>38</td>\n",
       "      <td>39.0</td>\n",
       "      <td>39.0</td>\n",
       "      <td>38.0</td>\n",
       "      <td>36.0</td>\n",
       "      <td>Asia Pacific</td>\n",
       "    </tr>\n",
       "    <tr>\n",
       "      <th>81</th>\n",
       "      <td>79</td>\n",
       "      <td>India</td>\n",
       "      <td>40</td>\n",
       "      <td>38.0</td>\n",
       "      <td>38.0</td>\n",
       "      <td>36.0</td>\n",
       "      <td>36.0</td>\n",
       "      <td>Asia Pacific</td>\n",
       "    </tr>\n",
       "    <tr>\n",
       "      <th>80</th>\n",
       "      <td>79</td>\n",
       "      <td>China</td>\n",
       "      <td>40</td>\n",
       "      <td>37.0</td>\n",
       "      <td>36.0</td>\n",
       "      <td>40.0</td>\n",
       "      <td>39.0</td>\n",
       "      <td>Asia Pacific</td>\n",
       "    </tr>\n",
       "    <tr>\n",
       "      <th>73</th>\n",
       "      <td>72</td>\n",
       "      <td>Solomon Islands</td>\n",
       "      <td>42</td>\n",
       "      <td>NaN</td>\n",
       "      <td>NaN</td>\n",
       "      <td>NaN</td>\n",
       "      <td>NaN</td>\n",
       "      <td>Asia Pacific</td>\n",
       "    </tr>\n",
       "    <tr>\n",
       "      <th>55</th>\n",
       "      <td>55</td>\n",
       "      <td>Malaysia</td>\n",
       "      <td>49</td>\n",
       "      <td>50.0</td>\n",
       "      <td>52.0</td>\n",
       "      <td>50.0</td>\n",
       "      <td>49.0</td>\n",
       "      <td>Asia Pacific</td>\n",
       "    </tr>\n",
       "    <tr>\n",
       "      <th>51</th>\n",
       "      <td>52</td>\n",
       "      <td>Korea (South)</td>\n",
       "      <td>53</td>\n",
       "      <td>56.0</td>\n",
       "      <td>55.0</td>\n",
       "      <td>55.0</td>\n",
       "      <td>56.0</td>\n",
       "      <td>Asia Pacific</td>\n",
       "    </tr>\n",
       "    <tr>\n",
       "      <th>40</th>\n",
       "      <td>41</td>\n",
       "      <td>Brunei</td>\n",
       "      <td>58</td>\n",
       "      <td>NaN</td>\n",
       "      <td>NaN</td>\n",
       "      <td>60.0</td>\n",
       "      <td>55.0</td>\n",
       "      <td>Asia Pacific</td>\n",
       "    </tr>\n",
       "    <tr>\n",
       "      <th>33</th>\n",
       "      <td>31</td>\n",
       "      <td>Taiwan</td>\n",
       "      <td>61</td>\n",
       "      <td>62.0</td>\n",
       "      <td>61.0</td>\n",
       "      <td>61.0</td>\n",
       "      <td>61.0</td>\n",
       "      <td>Asia Pacific</td>\n",
       "    </tr>\n",
       "    <tr>\n",
       "      <th>26</th>\n",
       "      <td>27</td>\n",
       "      <td>Bhutan</td>\n",
       "      <td>65</td>\n",
       "      <td>65.0</td>\n",
       "      <td>65.0</td>\n",
       "      <td>63.0</td>\n",
       "      <td>63.0</td>\n",
       "      <td>Asia Pacific</td>\n",
       "    </tr>\n",
       "    <tr>\n",
       "      <th>19</th>\n",
       "      <td>20</td>\n",
       "      <td>Japan</td>\n",
       "      <td>72</td>\n",
       "      <td>75.0</td>\n",
       "      <td>76.0</td>\n",
       "      <td>74.0</td>\n",
       "      <td>74.0</td>\n",
       "      <td>Asia Pacific</td>\n",
       "    </tr>\n",
       "    <tr>\n",
       "      <th>15</th>\n",
       "      <td>15</td>\n",
       "      <td>Hong Kong</td>\n",
       "      <td>77</td>\n",
       "      <td>75.0</td>\n",
       "      <td>74.0</td>\n",
       "      <td>75.0</td>\n",
       "      <td>77.0</td>\n",
       "      <td>Asia Pacific</td>\n",
       "    </tr>\n",
       "    <tr>\n",
       "      <th>12</th>\n",
       "      <td>13</td>\n",
       "      <td>Australia</td>\n",
       "      <td>79</td>\n",
       "      <td>79.0</td>\n",
       "      <td>80.0</td>\n",
       "      <td>81.0</td>\n",
       "      <td>85.0</td>\n",
       "      <td>Asia Pacific</td>\n",
       "    </tr>\n",
       "    <tr>\n",
       "      <th>6</th>\n",
       "      <td>7</td>\n",
       "      <td>Singapore</td>\n",
       "      <td>84</td>\n",
       "      <td>85.0</td>\n",
       "      <td>84.0</td>\n",
       "      <td>86.0</td>\n",
       "      <td>87.0</td>\n",
       "      <td>Asia Pacific</td>\n",
       "    </tr>\n",
       "    <tr>\n",
       "      <th>1</th>\n",
       "      <td>1</td>\n",
       "      <td>New Zealand</td>\n",
       "      <td>90</td>\n",
       "      <td>88.0</td>\n",
       "      <td>91.0</td>\n",
       "      <td>91.0</td>\n",
       "      <td>90.0</td>\n",
       "      <td>Asia Pacific</td>\n",
       "    </tr>\n",
       "  </tbody>\n",
       "</table>\n",
       "</div>"
      ],
      "text/plain": [
       "     2016 Rank           Country  2016 Score  2015 Score  2014 Score  \\\n",
       "173        174     Korea (North)          12         8.0         8.0   \n",
       "168        169       Afghanistan          15        11.0        12.0   \n",
       "155        156          Cambodia          21        21.0        21.0   \n",
       "144        145        Bangladesh          26        25.0        25.0   \n",
       "140        136  Papua New Guinea          28        25.0        25.0   \n",
       "138        136           Myanmar          28        22.0        21.0   \n",
       "132        131             Nepal          29        27.0        29.0   \n",
       "125        123              Laos          30        25.0        25.0   \n",
       "116        116          Pakistan          32        30.0        29.0   \n",
       "114        113           Vietnam          33        31.0        31.0   \n",
       "105        101       Timor-Leste          35        28.0        28.0   \n",
       "104        101          Thailand          35        38.0        38.0   \n",
       "103        101       Philippines          35        35.0        38.0   \n",
       "99          95         Sri Lanka          36        37.0        38.0   \n",
       "98          95          Maldives          36         NaN         NaN   \n",
       "90          90         Indonesia          37        36.0        34.0   \n",
       "86          87          Mongolia          38        39.0        39.0   \n",
       "81          79             India          40        38.0        38.0   \n",
       "80          79             China          40        37.0        36.0   \n",
       "73          72   Solomon Islands          42         NaN         NaN   \n",
       "55          55          Malaysia          49        50.0        52.0   \n",
       "51          52     Korea (South)          53        56.0        55.0   \n",
       "40          41            Brunei          58         NaN         NaN   \n",
       "33          31            Taiwan          61        62.0        61.0   \n",
       "26          27            Bhutan          65        65.0        65.0   \n",
       "19          20             Japan          72        75.0        76.0   \n",
       "15          15         Hong Kong          77        75.0        74.0   \n",
       "12          13         Australia          79        79.0        80.0   \n",
       "6            7         Singapore          84        85.0        84.0   \n",
       "1            1       New Zealand          90        88.0        91.0   \n",
       "\n",
       "     2013 Score  2012 Score        Region  \n",
       "173         8.0         8.0  Asia Pacific  \n",
       "168         8.0         8.0  Asia Pacific  \n",
       "155        20.0        22.0  Asia Pacific  \n",
       "144        27.0        26.0  Asia Pacific  \n",
       "140        25.0        25.0  Asia Pacific  \n",
       "138        21.0        15.0  Asia Pacific  \n",
       "132        31.0        27.0  Asia Pacific  \n",
       "125        26.0        21.0  Asia Pacific  \n",
       "116        28.0        27.0  Asia Pacific  \n",
       "114        31.0        31.0  Asia Pacific  \n",
       "105        30.0        33.0  Asia Pacific  \n",
       "104        35.0        37.0  Asia Pacific  \n",
       "103        36.0        34.0  Asia Pacific  \n",
       "99         37.0        40.0  Asia Pacific  \n",
       "98          NaN         NaN  Asia Pacific  \n",
       "90         32.0        32.0  Asia Pacific  \n",
       "86         38.0        36.0  Asia Pacific  \n",
       "81         36.0        36.0  Asia Pacific  \n",
       "80         40.0        39.0  Asia Pacific  \n",
       "73          NaN         NaN  Asia Pacific  \n",
       "55         50.0        49.0  Asia Pacific  \n",
       "51         55.0        56.0  Asia Pacific  \n",
       "40         60.0        55.0  Asia Pacific  \n",
       "33         61.0        61.0  Asia Pacific  \n",
       "26         63.0        63.0  Asia Pacific  \n",
       "19         74.0        74.0  Asia Pacific  \n",
       "15         75.0        77.0  Asia Pacific  \n",
       "12         81.0        85.0  Asia Pacific  \n",
       "6          86.0        87.0  Asia Pacific  \n",
       "1          91.0        90.0  Asia Pacific  "
      ]
     },
     "execution_count": 38,
     "metadata": {},
     "output_type": "execute_result"
    }
   ],
   "source": [
    "asia"
   ]
  },
  {
   "cell_type": "markdown",
   "metadata": {},
   "source": [
    "<div><p>7. Постройте графики индекса CPI за 2012-2016 для стран своего региона. Примерный вид графика приведен ниже</p>\n",
    "<img src=\"img/fig_springfield_region.png\">\n",
    "</div>"
   ]
  },
  {
   "cell_type": "code",
   "execution_count": 39,
   "metadata": {
    "collapsed": false
   },
   "outputs": [
    {
     "data": {
      "image/png": "[encoded data removed]",
      "text/plain": [
       "<matplotlib.figure.Figure at 0x9865978>"
      ]
     },
     "metadata": {},
     "output_type": "display_data"
    }
   ],
   "source": [
    "plt.figure(\"1\")\n",
    "\n",
    "plt.title(\"Asia Pacific CPI for 2012-2016\")\n",
    "plt.grid(True)\n",
    "\n",
    "for i in range(2012, 2017):\n",
    "    plt.scatter(np.full((len(asia)), i, dtype=int), asia[str(i) + ' Score'])\n",
    "        \n",
    "plt.xticks([2012, 2013, 2014, 2015, 2016],['2012 Score', '2013 Score', '2014 Score', '2015 Score', '2016 Score'])\n",
    "plt.show()"
   ]
  },
  {
   "cell_type": "markdown",
   "metadata": {},
   "source": [
    "<p>8. Найдите страны с наибольшим и наименьшим значением CPI Вашего варианта региона</p>"
   ]
  },
  {
   "cell_type": "code",
   "execution_count": 40,
   "metadata": {
    "collapsed": false
   },
   "outputs": [],
   "source": [
    "asia[\"Min\"] = asia[['2016 Score', '2015 Score', '2014 Score' , '2013 Score','2012 Score']].min(axis=1)\n",
    "asia[\"Max\"] = asia[['2016 Score', '2015 Score', '2014 Score' , '2013 Score','2012 Score']].max(axis=1)"
   ]
  },
  {
   "cell_type": "code",
   "execution_count": 41,
   "metadata": {
    "collapsed": false,
    "scrolled": true
   },
   "outputs": [
    {
     "data": {
      "text/html": [
       "<div>\n",
       "<table border=\"1\" class=\"dataframe\">\n",
       "  <thead>\n",
       "    <tr style=\"text-align: right;\">\n",
       "      <th></th>\n",
       "      <th>2016 Rank</th>\n",
       "      <th>Country</th>\n",
       "      <th>2016 Score</th>\n",
       "      <th>2015 Score</th>\n",
       "      <th>2014 Score</th>\n",
       "      <th>2013 Score</th>\n",
       "      <th>2012 Score</th>\n",
       "      <th>Region</th>\n",
       "      <th>Min</th>\n",
       "      <th>Max</th>\n",
       "    </tr>\n",
       "  </thead>\n",
       "  <tbody>\n",
       "    <tr>\n",
       "      <th>173</th>\n",
       "      <td>174</td>\n",
       "      <td>Korea (North)</td>\n",
       "      <td>12</td>\n",
       "      <td>8.0</td>\n",
       "      <td>8.0</td>\n",
       "      <td>8.0</td>\n",
       "      <td>8.0</td>\n",
       "      <td>Asia Pacific</td>\n",
       "      <td>8.0</td>\n",
       "      <td>12.0</td>\n",
       "    </tr>\n",
       "    <tr>\n",
       "      <th>168</th>\n",
       "      <td>169</td>\n",
       "      <td>Afghanistan</td>\n",
       "      <td>15</td>\n",
       "      <td>11.0</td>\n",
       "      <td>12.0</td>\n",
       "      <td>8.0</td>\n",
       "      <td>8.0</td>\n",
       "      <td>Asia Pacific</td>\n",
       "      <td>8.0</td>\n",
       "      <td>15.0</td>\n",
       "    </tr>\n",
       "  </tbody>\n",
       "</table>\n",
       "</div>"
      ],
      "text/plain": [
       "     2016 Rank        Country  2016 Score  2015 Score  2014 Score  2013 Score  \\\n",
       "173        174  Korea (North)          12         8.0         8.0         8.0   \n",
       "168        169    Afghanistan          15        11.0        12.0         8.0   \n",
       "\n",
       "     2012 Score        Region  Min   Max  \n",
       "173         8.0  Asia Pacific  8.0  12.0  \n",
       "168         8.0  Asia Pacific  8.0  15.0  "
      ]
     },
     "execution_count": 41,
     "metadata": {},
     "output_type": "execute_result"
    }
   ],
   "source": [
    "minValue = asia[asia['Min'] == asia['Min'].min()]\n",
    "minValue"
   ]
  },
  {
   "cell_type": "code",
   "execution_count": 113,
   "metadata": {
    "collapsed": false
   },
   "outputs": [
    {
     "data": {
      "text/html": [
       "<div>\n",
       "<table border=\"1\" class=\"dataframe\">\n",
       "  <thead>\n",
       "    <tr style=\"text-align: right;\">\n",
       "      <th></th>\n",
       "      <th>2016 Rank</th>\n",
       "      <th>Country</th>\n",
       "      <th>2016 Score</th>\n",
       "      <th>2015 Score</th>\n",
       "      <th>2014 Score</th>\n",
       "      <th>2013 Score</th>\n",
       "      <th>2012 Score</th>\n",
       "      <th>Region</th>\n",
       "      <th>Min</th>\n",
       "      <th>Max</th>\n",
       "      <th>Average</th>\n",
       "      <th>Difference</th>\n",
       "    </tr>\n",
       "  </thead>\n",
       "  <tbody>\n",
       "    <tr>\n",
       "      <th>1</th>\n",
       "      <td>1</td>\n",
       "      <td>New Zealand</td>\n",
       "      <td>90</td>\n",
       "      <td>88.0</td>\n",
       "      <td>91.0</td>\n",
       "      <td>91.0</td>\n",
       "      <td>90.0</td>\n",
       "      <td>Asia Pacific</td>\n",
       "      <td>88.0</td>\n",
       "      <td>91.0</td>\n",
       "      <td>90.0</td>\n",
       "      <td>49.893333</td>\n",
       "    </tr>\n",
       "  </tbody>\n",
       "</table>\n",
       "</div>"
      ],
      "text/plain": [
       "   2016 Rank      Country  2016 Score  2015 Score  2014 Score  2013 Score  \\\n",
       "1          1  New Zealand          90        88.0        91.0        91.0   \n",
       "\n",
       "   2012 Score        Region   Min   Max  Average  Difference  \n",
       "1        90.0  Asia Pacific  88.0  91.0     90.0   49.893333  "
      ]
     },
     "execution_count": 113,
     "metadata": {},
     "output_type": "execute_result"
    }
   ],
   "source": [
    "maxValue = asia[asia['Max'] == asia['Max'].max()]\n",
    "maxValue"
   ]
  },
  {
   "cell_type": "markdown",
   "metadata": {},
   "source": [
    "<p>9. Определите средние значения за каждый год в период с 2012 по 2016</p>"
   ]
  },
  {
   "cell_type": "code",
   "execution_count": 43,
   "metadata": {
    "collapsed": false
   },
   "outputs": [
    {
     "data": {
      "text/plain": [
       "(43.86666666666667,\n",
       " 42.51851851851852,\n",
       " 42.7037037037037,\n",
       " 43.035714285714285,\n",
       " 42.642857142857146)"
      ]
     },
     "execution_count": 43,
     "metadata": {},
     "output_type": "execute_result"
    }
   ],
   "source": [
    "average2016 = asia['2016 Score'].mean()\n",
    "average2015 = asia['2015 Score'].mean()\n",
    "average2014 = asia['2014 Score'].mean()\n",
    "average2013 = asia['2013 Score'].mean()\n",
    "average2012 = asia['2012 Score'].mean()\n",
    "\n",
    "average2016, average2015, average2014, average2013, average2012"
   ]
  },
  {
   "cell_type": "code",
   "execution_count": 44,
   "metadata": {
    "collapsed": false
   },
   "outputs": [
    {
     "data": {
      "text/html": [
       "<div>\n",
       "<table border=\"1\" class=\"dataframe\">\n",
       "  <thead>\n",
       "    <tr style=\"text-align: right;\">\n",
       "      <th></th>\n",
       "      <th>2016 Rank</th>\n",
       "      <th>Country</th>\n",
       "      <th>2016 Score</th>\n",
       "      <th>2015 Score</th>\n",
       "      <th>2014 Score</th>\n",
       "      <th>2013 Score</th>\n",
       "      <th>2012 Score</th>\n",
       "      <th>Region</th>\n",
       "      <th>Min</th>\n",
       "      <th>Max</th>\n",
       "      <th>Average</th>\n",
       "      <th>Difference</th>\n",
       "    </tr>\n",
       "  </thead>\n",
       "  <tbody>\n",
       "    <tr>\n",
       "      <th>80</th>\n",
       "      <td>79</td>\n",
       "      <td>China</td>\n",
       "      <td>40</td>\n",
       "      <td>37.0</td>\n",
       "      <td>36.0</td>\n",
       "      <td>40.0</td>\n",
       "      <td>39.0</td>\n",
       "      <td>Asia Pacific</td>\n",
       "      <td>36.0</td>\n",
       "      <td>40.0</td>\n",
       "      <td>38.4</td>\n",
       "      <td>1.706667</td>\n",
       "    </tr>\n",
       "  </tbody>\n",
       "</table>\n",
       "</div>"
      ],
      "text/plain": [
       "    2016 Rank Country  2016 Score  2015 Score  2014 Score  2013 Score  \\\n",
       "80         79   China          40        37.0        36.0        40.0   \n",
       "\n",
       "    2012 Score        Region   Min   Max  Average  Difference  \n",
       "80        39.0  Asia Pacific  36.0  40.0     38.4    1.706667  "
      ]
     },
     "execution_count": 44,
     "metadata": {},
     "output_type": "execute_result"
    }
   ],
   "source": [
    "asia['Average'] = asia[['2016 Score', '2015 Score', '2014 Score' , '2013 Score','2012 Score']].sum(1) / 5\n",
    "asia['Difference'] = np.absolute(asia[['Average']] - asia['Average'].mean())\n",
    "\n",
    "averageValue = asia[asia['Difference'] == asia['Difference'].min()]\n",
    "averageValue"
   ]
  },
  {
   "cell_type": "markdown",
   "metadata": {},
   "source": [
    "<div><p>10. Постройте графики индекса CPI за 2012-2016 для стран своего региона и выделите страны с наибольшим и наименьшим значением CPI, а также постройте графики для средних значение по региону и РФ. Примерный вид графика приведен ниже</p>\n",
    "<img src=\"img/fig_springfield_region_comb.png\">"
   ]
  },
  {
   "cell_type": "code",
   "execution_count": 93,
   "metadata": {
    "collapsed": false,
    "scrolled": false
   },
   "outputs": [
    {
     "data": {
      "image/png": "[encoded data removed]",
      "text/plain": [
       "<matplotlib.figure.Figure at 0xaa284a8>"
      ]
     },
     "metadata": {},
     "output_type": "display_data"
    }
   ],
   "source": [
    "plt.figure(\"2\")\n",
    "plt.title(\"Asia Pacific CPI for 2012-2016\")\n",
    "plt.grid(True)\n",
    "\n",
    "\n",
    "for i in range(2012, 2017):\n",
    "    currColumn = str(i) + ' Score'\n",
    "    maxCountry = maxValue.iloc[0]\n",
    "    minCountry  = minValue.iloc[0]\n",
    "    avCountry = averageValue.iloc[0]\n",
    "    russia = data[data['Country'] == 'Russia'].iloc[0]\n",
    "    \n",
    "    plt.scatter(np.full((len(asia)), i, dtype=int), asia[currColumn], c='gray')\n",
    "    plt.scatter(i, maxCountry[currColumn], c='red')\n",
    "    plt.scatter(i, avCountry[currColumn], c='blue')\n",
    "    plt.scatter(i, russia[currColumn], c='yellow')\n",
    "    plt.scatter(i, minCountry[currColumn], c='green')\n",
    "    \n",
    "    if i > 2012:\n",
    "        prevColumn = str(i-1) + ' Score'\n",
    "        plt.plot([i-1, i],[maxCountry[prevColumn], maxCountry[currColumn]], marker='o', c='red')\n",
    "        plt.plot([i-1, i],[avCountry[prevColumn], avCountry[currColumn]], marker='o', c='blue')\n",
    "        plt.plot([i-1, i],[russia[prevColumn],russia[currColumn]], marker='o', c='yellow')\n",
    "        plt.plot([i-1, i],[minCountry[prevColumn], minCountry[currColumn]], marker='o', c='green')    \n",
    "    \n",
    "    \n",
    "plt.xticks([2012, 2013, 2014, 2015, 2016],['2012 Score', '2013 Score', '2014 Score', '2015 Score', '2016 Score'])\n",
    "plt.legend(['Max','Average','Russia','Min'])\n",
    "\n",
    "plt.show()"
   ]
  },
  {
   "cell_type": "markdown",
   "metadata": {},
   "source": [
    "<p>11. Определите как изменилось значение показателя в соответсвии с Вашим вариантом с 2012 по 2016</p>\n",
    "<p><b>Вариант 1.</b> На сколько позиций в рейтинге c 2012 по 2016</p>\n",
    "<p><b>Вариант 2.</b> На сколько процентов значение CPI с 2012 по 2016</p>"
   ]
  },
  {
   "cell_type": "markdown",
   "metadata": {},
   "source": [
    "<div class=\"msg-block msg-info\">\n",
    "  <p class=\"msg-text-info\">У нескольких стран может быть одна и та же позиция в рейтинге из-за одинаковых значений индекса</p>\n",
    "</div>"
   ]
  },
  {
   "cell_type": "code",
   "execution_count": 100,
   "metadata": {
    "collapsed": false
   },
   "outputs": [
    {
     "data": {
      "text/plain": [
       "(0.0, 2.5641025641025643, 3.5714285714285716, 50.0)"
      ]
     },
     "execution_count": 100,
     "metadata": {},
     "output_type": "execute_result"
    }
   ],
   "source": [
    "s2016 = '2016 Score'\n",
    "s2012 = '2012 Score'\n",
    "\n",
    "maxDiff = (maxCountry[s2016] - maxCountry[s2012])*100/maxCountry[s2012]\n",
    "avDiff = (avCountry[s2016] - avCountry[s2012])*100/avCountry[s2012]\n",
    "russiaDiff = (russia[s2016] - russia[s2012])*100/russia[s2012]\n",
    "minDiff = (minCountry[s2016] - minCountry[s2012])*100/minCountry[s2012]\n",
    "\n",
    "maxDiff, avDiff, russiaDiff, minDiff"
   ]
  },
  {
   "cell_type": "markdown",
   "metadata": {},
   "source": [
    "<p>12. Выведите </p>"
   ]
  },
  {
   "cell_type": "code",
   "execution_count": 101,
   "metadata": {
    "collapsed": false
   },
   "outputs": [],
   "source": [
    "import pandas as pnd\n",
    "\n",
    "index = [\"Average\", \"Max\", \"Min\", \"Russia\"]\n",
    "columns = [\"Region\", \"Country\", \"Score 2012\", \"Score 2016\", \"Change in %\"]"
   ]
  },
  {
   "cell_type": "code",
   "execution_count": 102,
   "metadata": {
    "collapsed": false
   },
   "outputs": [],
   "source": [
    "df = pnd.DataFrame(index=index, columns=columns)"
   ]
  },
  {
   "cell_type": "code",
   "execution_count": 111,
   "metadata": {
    "collapsed": false
   },
   "outputs": [
    {
     "data": {
      "text/html": [
       "<div>\n",
       "<table border=\"1\" class=\"dataframe\">\n",
       "  <thead>\n",
       "    <tr style=\"text-align: right;\">\n",
       "      <th></th>\n",
       "      <th>Region</th>\n",
       "      <th>Country</th>\n",
       "      <th>Score 2012</th>\n",
       "      <th>Score 2016</th>\n",
       "      <th>Change in %</th>\n",
       "    </tr>\n",
       "  </thead>\n",
       "  <tbody>\n",
       "    <tr>\n",
       "      <th>Average</th>\n",
       "      <td>Asia Pacific</td>\n",
       "      <td>China</td>\n",
       "      <td>39</td>\n",
       "      <td>40</td>\n",
       "      <td>2.5641</td>\n",
       "    </tr>\n",
       "    <tr>\n",
       "      <th>Max</th>\n",
       "      <td>Asia Pacific</td>\n",
       "      <td>New Zealand</td>\n",
       "      <td>90</td>\n",
       "      <td>90</td>\n",
       "      <td>0</td>\n",
       "    </tr>\n",
       "    <tr>\n",
       "      <th>Min</th>\n",
       "      <td>Asia Pacific</td>\n",
       "      <td>Korea (North)</td>\n",
       "      <td>8</td>\n",
       "      <td>12</td>\n",
       "      <td>50</td>\n",
       "    </tr>\n",
       "    <tr>\n",
       "      <th>Russia</th>\n",
       "      <td>Europe and Central Asia</td>\n",
       "      <td>Russia</td>\n",
       "      <td>28</td>\n",
       "      <td>29</td>\n",
       "      <td>3.57143</td>\n",
       "    </tr>\n",
       "  </tbody>\n",
       "</table>\n",
       "</div>"
      ],
      "text/plain": [
       "                          Region        Country Score 2012 Score 2016  \\\n",
       "Average             Asia Pacific          China         39         40   \n",
       "Max                 Asia Pacific    New Zealand         90         90   \n",
       "Min                 Asia Pacific  Korea (North)          8         12   \n",
       "Russia   Europe and Central Asia         Russia         28         29   \n",
       "\n",
       "        Change in %  \n",
       "Average      2.5641  \n",
       "Max               0  \n",
       "Min              50  \n",
       "Russia      3.57143  "
      ]
     },
     "execution_count": 111,
     "metadata": {},
     "output_type": "execute_result"
    }
   ],
   "source": [
    "df['Region']['Average'] = avCountry['Region']\n",
    "df['Region']['Max'] = maxCountry['Region']\n",
    "df['Region']['Min'] = minCountry['Region']\n",
    "df['Region']['Russia'] = russia['Region']\n",
    "\n",
    "df['Country']['Average'] = avCountry['Country']\n",
    "df['Country']['Max'] = maxCountry['Country']\n",
    "df['Country']['Min'] = minCountry['Country']\n",
    "df['Country']['Russia'] = russia['Country']\n",
    "\n",
    "df['Score 2012']['Average'] = avCountry[s2012]\n",
    "df['Score 2012']['Max'] = maxCountry[s2012]\n",
    "df['Score 2012']['Min'] = minCountry[s2012]\n",
    "df['Score 2012']['Russia'] = russia[s2012]\n",
    "\n",
    "df['Score 2016']['Average'] = avCountry[s2016]\n",
    "df['Score 2016']['Max'] = maxCountry[s2016]\n",
    "df['Score 2016']['Min'] = minCountry[s2016]\n",
    "df['Score 2016']['Russia'] = russia[s2016]\n",
    "\n",
    "df['Change in %']['Average'] = avDiff\n",
    "df['Change in %']['Max'] = maxDiff\n",
    "df['Change in %']['Min'] = minDiff\n",
    "df['Change in %']['Russia'] = russiaDiff\n",
    "\n",
    "df"
   ]
  }
 ],
 "metadata": {
  "anaconda-cloud": {},
  "kernelspec": {
   "display_name": "Python [Root]",
   "language": "python",
   "name": "Python [Root]"
  },
  "language_info": {
   "codemirror_mode": {
    "name": "ipython",
    "version": 2
   },
   "file_extension": ".py",
   "mimetype": "text/x-python",
   "name": "python",
   "nbconvert_exporter": "python",
   "pygments_lexer": "ipython2",
   "version": "2.7.13"
  }
 },
 "nbformat": 4,
 "nbformat_minor": 2
}
